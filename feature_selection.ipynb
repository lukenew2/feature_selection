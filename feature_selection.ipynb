{
 "cells": [
  {
   "cell_type": "markdown",
   "id": "cc80c1dd",
   "metadata": {},
   "source": [
    "# Feature Selection\n",
    "---\n",
    "Feature selection is the process of selecting the features that hold the most predictive power to the target. By removing unnecessary features, we reduce model complexity and minimize the computational resources required for training and inference.  Feature selection is a crucial step that can have a great impact on model efficiency in production settings.\n",
    "\n",
    "The methods of feature selection we will perform are:\n",
    "* Filter Methods\n",
    "    * Correlation\n",
    "    * Univariate Feature Selection\n",
    "* Wrapper Methods\n",
    "    * Forward Selection\n",
    "    * Backward Selection\n",
    "    * Recursive Feature Elimination\n",
    "* Embedded Methods\n",
    "    * Feature Importance (Tree-based)\n",
    "    * L1 Regularization\n",
    "\n",
    "In this notebook, we will demonstrate the feature selection methods above on the [Census Income](https://archive.ics.uci.edu/ml/datasets/Census-Income+%28KDD%29) dataset from the UCI repository. The dataset contains both numerical and categorical features with the goal to predict whether a person's salary is greater than or equal to $50k."
   ]
  },
  {
   "cell_type": "markdown",
   "id": "c5d39fe9",
   "metadata": {},
   "source": [
    "# Imports"
   ]
  },
  {
   "cell_type": "code",
   "execution_count": null,
   "id": "9fae6696",
   "metadata": {},
   "outputs": [],
   "source": [
    "# for data processing and manipulation\n",
    "import pandas as pd\n",
    "import numpy as np\n",
    "\n",
    "# scikit-learn modules for feature selection and model evaluation\n",
    "from sklearn.ensemble import RandomForestClassifier\n",
    "from sklearn.feature_selection import RFE, SelectKBest, SelectFromModel, SequentialFeatureSelector, chi2, f_classif\n",
    "from sklearn.model_selection import train_test_split\n",
    "from sklearn.metrics import accuracy_score, roc_auc_score, precision_score, recall_score, f1_score\n",
    "from sklearn.feature_selection import SelectFromModel\n",
    "from sklearn.preprocessing import StandardScaler, MinMaxScaler\n",
    "\n",
    "# libraries for visualization\n",
    "import seaborn as sns\n",
    "import matplotlib\n",
    "import matplotlib.pyplot as plt"
   ]
  }
 ],
 "metadata": {
  "kernelspec": {
   "display_name": "feat_select",
   "language": "python",
   "name": "feat_select"
  },
  "language_info": {
   "codemirror_mode": {
    "name": "ipython",
    "version": 3
   },
   "file_extension": ".py",
   "mimetype": "text/x-python",
   "name": "python",
   "nbconvert_exporter": "python",
   "pygments_lexer": "ipython3",
   "version": "3.8.11"
  }
 },
 "nbformat": 4,
 "nbformat_minor": 5
}
